{
 "cells": [
  {
   "cell_type": "markdown",
   "metadata": {},
   "source": [
    "----\n",
    "# Francisco J. Barriga\n",
    "(+34)658 7274 85 / fjbarrigar@gmail.com\n",
    "\n",
    "https://www.linkedin.com/in/franciscobarrigar/\n",
    "\n",
    "----"
   ]
  },
  {
   "source": [
    "In this notebook, I go trough various basic functions within **Python** in order to begin exploring their utility, and be able to fully use it!"
   ],
   "cell_type": "markdown",
   "metadata": {}
  },
  {
   "cell_type": "code",
   "execution_count": 44,
   "metadata": {},
   "outputs": [
    {
     "output_type": "stream",
     "name": "stdout",
     "text": [
      "This is python version 3.8.3\n"
     ]
    }
   ],
   "source": [
    "#In order to check the version of python on your computer\n",
    "import platform\n",
    "print (\"This is python version {}\".format(platform.python_version()))"
   ]
  },
  {
   "cell_type": "code",
   "execution_count": 54,
   "metadata": {},
   "outputs": [
    {
     "output_type": "stream",
     "name": "stdout",
     "text": [
      "10\n0\n15\n5.0\n4\n16\nYour $100 investment is now worth: 194.87171000000012 after 7 years\n"
     ]
    }
   ],
   "source": [
    "# Addition, subtraction\n",
    "print(5 + 5)\n",
    "print(5 - 5)\n",
    "\n",
    "# Multiplication, division, modulo (returns the remainder of the division of the number to the left by the number on its right), and exponentiation\n",
    "print(3 * 5)\n",
    "print(10 / 2)\n",
    "print(18 % 7)\n",
    "print(4 ** 2)\n",
    "\n",
    "# How much is your $100 worth after 7 years?\n",
    "print (\"Your $100 investment is now worth:\",100 *1.1**7\n",
    "       ,\"after 7 years\")"
   ]
  },
  {
   "source": [
    "----\n",
    "In python there are a bunch of different types of variables, the most common are: \n",
    "- **str( )** string: a type to represent text. \n",
    "- **int( )** integer: a number without a fractional part.\n",
    "- **float( )** floating point: a number that has both an integer and fractional part, separated by a point. \n",
    "- **bool( )** boolean: a type to represent logical values, and can only be True or False (caps are very important!!).\n",
    "\n",
    "Depending on the type you are working with, the code in python will behave differently. For example if we add two integers together **5+4**, we will get **9**; but if we add to strings together **'a' + 'b'** we will get **ab**. You cannot simply sum strings and integers/floats.\n",
    "\n",
    "----"
   ],
   "cell_type": "markdown",
   "metadata": {}
  },
  {
   "source": [
    "Strings **str( )** are objects, which means that you can run operations through and with them!"
   ],
   "cell_type": "markdown",
   "metadata": {}
  },
  {
   "cell_type": "code",
   "execution_count": 45,
   "metadata": {},
   "outputs": [
    {
     "output_type": "stream",
     "name": "stdout",
     "text": [
      "Hello World 13\nHello World 13\nHello World 13\n"
     ]
    }
   ],
   "source": [
    "#Function of the string object itself, not of the print function\n",
    "x = 13\n",
    "s = 'Hello World {}' .format (x)\n",
    "print (s)\n",
    "print ('Hello World {}'. format(x))\n",
    "print (f'Hello World {x}') #The f in python 3 stands for format method, so it is the same"
   ]
  },
  {
   "cell_type": "code",
   "execution_count": 55,
   "metadata": {},
   "outputs": [
    {
     "output_type": "stream",
     "name": "stdout",
     "text": [
      "x is Hi my name is francisco\n---------------------------------------------------------------------------------------------------------------------\nWant to go to Hawaii? THE ONLY THING I ASK IS OF YOU, IS TO LISTEN TO THIS SONG!!!\n---------------------------------------------------------------------------------------------------------------------\nhola mucho gusto, my name is 123hello123!\n---------------------------------------------------------------------------------------------------------------------\nseven 9 8\n---------------------------------------------------------------------------------------------------------------------\nseven 900000000 000000008\n"
     ]
    }
   ],
   "source": [
    "x = 'hi my name is francisco'.capitalize() #in order to start the first letter of a sentence with a caps\n",
    "y = 'the only thing I ask is of you, is to listen to this song!!!'. upper() #to make all CAPS\n",
    "z = 'hola mucho gusto, my name is 123hello123!'. lower() #to make all letters lower \n",
    "vega = 'seven {1} {0}'.format (8,9) #you can format the string!! if you specify the positional argument, it will bring back the number in said space\n",
    "gamma = 'seven {1:<09} {0:>09}'.format (8,9) #the :< adds spaces between the arguments, in this example 9 spaces. If you put a 0 next to the number, it will add the ceros to those spaces\n",
    "\n",
    "print ('x is {}'.format(x))\n",
    "print('-' * 117)\n",
    "print ('Want to go to Hawaii? {}'.format(y))\n",
    "print('-' * 117)\n",
    "print (z)\n",
    "print('-' * 117)\n",
    "print (vega)\n",
    "print('-' * 117)\n",
    "print(gamma)"
   ]
  },
  {
   "cell_type": "code",
   "execution_count": 56,
   "metadata": {},
   "outputs": [
    {
     "output_type": "stream",
     "name": "stdout",
     "text": [
      "My weight in pounds is 220.5\nMy height to weight ratio is 0.8344671201814059\nMy height to weight ratio is 0.0\n"
     ]
    }
   ],
   "source": [
    "#Integers\n",
    "\n",
    "weight_in_kg = int(input(\"Type in your weight in kg:\"))\n",
    "weight_in_lb = weight_in_kg * 2.205\n",
    "height_in_cm = int(input(\"Type in your height in cm:\"))\n",
    "height_to_weight_ratio = height_in_cm / weight_in_lb\n",
    "height_to_weight_ratio_withoutdecimals = height_in_cm // weight_in_lb #the double // rounds up to closest number\n",
    "\n",
    "\n",
    "print ('My weight in pounds is {}'.format(weight_in_lb))\n",
    "print ('My height to weight ratio is {}'.format (height_to_weight_ratio))\n",
    "print ('My height to weight ratio is {}'.format (height_to_weight_ratio_withoutdecimals))"
   ]
  },
  {
   "cell_type": "code",
   "execution_count": 57,
   "metadata": {},
   "outputs": [
    {
     "output_type": "stream",
     "name": "stdout",
     "text": [
      "X is True\n<class 'bool'>\n---------------------------------------------------------------------------------------------------------------------\nX is None\n<class 'NoneType'>\n---------------------------------------------------------------------------------------------------------------------\nTrue\n"
     ]
    }
   ],
   "source": [
    "#Booleans are for logical values and expressions\n",
    "\n",
    "x = 4 < 9\n",
    "print ('X is {}' .format(x))\n",
    "print (type(x))\n",
    "print ('-' * 117)\n",
    "\n",
    "y = None\n",
    "print ('X is {}' .format(y))\n",
    "print (type(y)) #This is a special type, called the NoneType. It has no value\n",
    "print ('-' * 117)\n",
    "\n",
    "if x:\n",
    "    print('True')\n",
    "else:\n",
    "    print('False')"
   ]
  },
  {
   "cell_type": "code",
   "execution_count": 58,
   "metadata": {},
   "outputs": [
    {
     "output_type": "stream",
     "name": "stdout",
     "text": [
      "Index is: 0\nIndex is: 1\nIndex is: 2\nIndex is: 3\nIndex is: 4\nIndex is: hello\nIndex is: 6\nIndex is: 7\nIndex is: 8\nIndex is: 9\nIndex is: 10\n"
     ]
    }
   ],
   "source": [
    "x = list (range(11)) #by adding list() you are making it mutable\n",
    "x [5] = 'hello'\n",
    "\n",
    "for i in x:\n",
    "    print('Index is: {}'.format(i))"
   ]
  },
  {
   "source": [
    "**Dictionary is a collection which is unordered, changeable and indexed. In Python dictionaries are written with curly brackets, and they have keys and values.**"
   ],
   "cell_type": "markdown",
   "metadata": {}
  },
  {
   "cell_type": "code",
   "execution_count": null,
   "metadata": {},
   "outputs": [],
   "source": [
    "x = {'one' : 1, 'two' : 2,'three' : 3,'four' : 4,'five' : 5}\n",
    "x ['three'] = 6\n",
    "for i in x:\n",
    "    print ('I is {}' .format(i))\n",
    "\n",
    "print (\"\\n\")\n",
    "\n",
    "for k,v in x.items():\n",
    "    print ('Key: {}, Value: {}' .format(k, v))"
   ]
  },
  {
   "cell_type": "code",
   "execution_count": 46,
   "metadata": {},
   "outputs": [
    {
     "output_type": "stream",
     "name": "stdout",
     "text": [
      "X and Y are the same: x is 23 and y is 23\n"
     ]
    }
   ],
   "source": [
    "#Python uses indentation to delimiter blocks\n",
    "#Blocks do not define scope in Python; functions, moduls and objects do.\n",
    "x = 23\n",
    "y = 23\n",
    "if x > y:\n",
    "    print ('x > y: x is {} and y is {}' . format(x,y))\n",
    "    \n",
    "elif x < y: \n",
    "    print ('x < y: x is {} and y is {}' . format(x,y))\n",
    "    \n",
    "elif x == y: \n",
    "    print ('X and Y are the same: x is {} and y is {}' . format(x,y))\n",
    "\n",
    "else: #else condition prints when the if condition isn't met\n",
    "    print ('lol')"
   ]
  },
  {
   "cell_type": "code",
   "execution_count": 47,
   "metadata": {},
   "outputs": [
    {
     "output_type": "stream",
     "name": "stdout",
     "text": [
      "one\ntwo\nthree\nfour\nfive\n"
     ]
    }
   ],
   "source": [
    "#While Loop\n",
    "words = ['one','two','three','four','five']\n",
    "n = 0\n",
    "while (n < 5): #which is true because we defined it as 0\n",
    "    print(words[n])\n",
    "    n += 1 #it will increment one by one untill it reaches 4, which is the word 'five' in the list (it starts the element 0)."
   ]
  },
  {
   "source": [
    "**Simple Fibonacci sequence: the sum of two previous numbers defines the next one**"
   ],
   "cell_type": "markdown",
   "metadata": {}
  },
  {
   "cell_type": "code",
   "execution_count": 49,
   "metadata": {},
   "outputs": [
    {
     "output_type": "stream",
     "name": "stdout",
     "text": [
      "1 1 2 3 5 8 13 21 34 55 89 144 233 377 610 987 "
     ]
    }
   ],
   "source": [
    "a, b = 0 , 1\n",
    "while b < 1000:\n",
    "    print (b, end = ' ', flush = True)\n",
    "    a, b = b, a + b"
   ]
  },
  {
   "cell_type": "code",
   "execution_count": 50,
   "metadata": {},
   "outputs": [
    {
     "output_type": "stream",
     "name": "stdout",
     "text": [
      "one\ntwo\nthree\nfour\nfive\nmafia\n"
     ]
    }
   ],
   "source": [
    "#For Loop\n",
    "words = ['one','two','three','four','five','mafia']\n",
    "for i in words:\n",
    "    print(i)"
   ]
  },
  {
   "cell_type": "code",
   "execution_count": 51,
   "metadata": {},
   "outputs": [
    {
     "output_type": "stream",
     "name": "stdout",
     "text": [
      "47\n"
     ]
    },
    {
     "output_type": "execute_result",
     "data": {
      "text/plain": [
       "235"
      ]
     },
     "metadata": {},
     "execution_count": 51
    }
   ],
   "source": [
    "#Functions on Python\n",
    "\n",
    "def function (n): #Def in order to define a function\n",
    "    print (n)\n",
    "    return (n*5)\n",
    "    \n",
    "function (47)"
   ]
  },
  {
   "source": [
    "**Define a function that returns if the number is prime or not**"
   ],
   "cell_type": "markdown",
   "metadata": {}
  },
  {
   "cell_type": "code",
   "execution_count": 52,
   "metadata": {},
   "outputs": [
    {
     "output_type": "stream",
     "name": "stdout",
     "text": [
      "2 3 5 7 11 13 17 19 23 29 31 37 41 43 47 53 59 61 67 71 73 79 83 89 97 \n",
      "7 is a primer number\n"
     ]
    }
   ],
   "source": [
    "#Prime numbers\n",
    "def isprime (n):\n",
    "    if n <= 1: \n",
    "        return False\n",
    "    for x in range (2, n):\n",
    "        if n % x == 0:\n",
    "            return False\n",
    "    else:\n",
    "        return True\n",
    "\n",
    "    \n",
    "def list_primes():\n",
    "    for n in range(100):\n",
    "        if isprime (n):\n",
    "            print (n, end = ' ' , flush = True)\n",
    "    print()\n",
    "\n",
    "list_primes()\n",
    "    \n",
    "n = int(input(\"Write a number:\"))\n",
    "\n",
    "if isprime (n):\n",
    "    print (f'{n} is a primer number')\n",
    "else :\n",
    "    print (f'{n} is not a primer number')    \n"
   ]
  },
  {
   "cell_type": "code",
   "execution_count": 59,
   "metadata": {},
   "outputs": [
    {
     "output_type": "stream",
     "name": "stdout",
     "text": [
      "Calling the FBI...\n"
     ]
    }
   ],
   "source": [
    "secret ='stochastic' \n",
    "pw = ''\n",
    "auth = False\n",
    "count = 0\n",
    "max_attempt = 5\n",
    "\n",
    "while pw != secret:\n",
    "    count += 1\n",
    "    if count > max_attempt: break #will break all the way out of the loop and skip the else clause\n",
    "    if count == 3: continue #will shortcut the loop and go back to the test without finishing the body of the loop\n",
    "    pw = input (f\"{count}: What's the secret word?\")\n",
    "\n",
    "else: #gets executed when the condition is exited normally, meaning that the while is over\n",
    "    auth = 1 #Writing the number 1 is the same as tiping True\n",
    "    \n",
    "print ('Authorized' if auth else 'Calling the police...')\n"
   ]
  },
  {
   "cell_type": "markdown",
   "metadata": {},
   "source": [
    "** Evaluate how much is 7 to the 4th power **"
   ]
  },
  {
   "cell_type": "code",
   "execution_count": 1,
   "metadata": {},
   "outputs": [
    {
     "output_type": "stream",
     "name": "stdout",
     "text": [
      "7 to the power of 4 is 2401\n"
     ]
    }
   ],
   "source": [
    "x = 7\n",
    "y = 4\n",
    "print(f\"{x} to the power of {y} is {x**y}\")"
   ]
  },
  {
   "cell_type": "code",
   "execution_count": 6,
   "metadata": {},
   "outputs": [
    {
     "output_type": "stream",
     "name": "stdout",
     "text": [
      "2401\n"
     ]
    }
   ],
   "source": [
    "print(7**4)"
   ]
  },
  {
   "cell_type": "code",
   "execution_count": 9,
   "metadata": {},
   "outputs": [
    {
     "output_type": "stream",
     "name": "stdout",
     "text": [
      "8\n"
     ]
    }
   ],
   "source": [
    "def elevate (n):\n",
    "    n = int(input(\"Insert an integer: \"))\n",
    "    x = int(input(\"Insert an integer power: \"))\n",
    "    return n**x\n",
    "\n",
    "print(elevate(1))"
   ]
  },
  {
   "cell_type": "markdown",
   "metadata": {},
   "source": [
    "**Convert the string** s = \"Hello Peter, what's up?\" **to a list. **"
   ]
  },
  {
   "cell_type": "code",
   "execution_count": 10,
   "metadata": {},
   "outputs": [
    {
     "output_type": "stream",
     "name": "stdout",
     "text": [
      "['Hello', 'Peter,', \"what's\", 'up?']\n"
     ]
    }
   ],
   "source": [
    "s = (\"Hello Peter, what's up?\")\n",
    "print(s.split())\n"
   ]
  },
  {
   "cell_type": "code",
   "execution_count": 11,
   "metadata": {},
   "outputs": [
    {
     "output_type": "stream",
     "name": "stdout",
     "text": [
      "['H', 'e', 'l', 'l', 'o', ' ', 'P', 'e', 't', 'e', 'r', ',', ' ', 'w', 'h', 'a', 't', \"'\", 's', ' ', 'u', 'p', '?']\n"
     ]
    }
   ],
   "source": [
    "s = (\"Hello Peter, what's up?\")\n",
    "print(list(s))"
   ]
  },
  {
   "cell_type": "markdown",
   "metadata": {},
   "source": [
    "**Given the variables:** planet = \"Earth\" **and** diameter = 12742 **, use three different methods to obtain the following string:**  *The diameter of planet Earth is 12742km.*"
   ]
  },
  {
   "cell_type": "code",
   "execution_count": 14,
   "metadata": {},
   "outputs": [
    {
     "output_type": "stream",
     "name": "stdout",
     "text": [
      "The diameter of planet Earth is 12,742 km\n--------------------------------------------------\nThe diameter of planet Earth is 12,742 km\n--------------------------------------------------\nThe diameter of planet Earth is 12742 km\n--------------------------------------------------\nThe diameter of planet Earth is 12742 km\n--------------------------------------------------\nThe diameter of planet Earth is 12742 km\n"
     ]
    }
   ],
   "source": [
    "planet = 'Earth'\n",
    "diameter = 12742\n",
    "print(f\"The diameter of planet {planet} is {diameter:,} km\")\n",
    "print(\"-\" * 50)\n",
    "print(\"The diameter of planet {} is {:,} km\" .format (planet, diameter))\n",
    "print(\"-\" * 50)\n",
    "print (\"The diameter of planet\", planet, \"is\", diameter, \"km\") \n",
    "print(\"-\" * 50)\n",
    "print (\"The diameter of planet %s is %d km\" % (planet, diameter))\n",
    "print(\"-\" * 50)\n",
    "print(\"The diameter of planet \" +planet+ \" is \" + str(diameter) + \" km\")"
   ]
  },
  {
   "cell_type": "markdown",
   "metadata": {},
   "source": [
    "**Given the list** *lst,* **use indexation to obtain the word \"hello\" y change the value** *23* **to** *25*"
   ]
  },
  {
   "cell_type": "code",
   "execution_count": 16,
   "metadata": {},
   "outputs": [],
   "source": [
    "lst = [1,2,[3,4],[5,[100,200,['hello']],23,11],1,7]"
   ]
  },
  {
   "cell_type": "code",
   "execution_count": 17,
   "metadata": {},
   "outputs": [
    {
     "output_type": "stream",
     "name": "stdout",
     "text": [
      "['hello']\n"
     ]
    }
   ],
   "source": [
    "print(lst[3][1][2])"
   ]
  },
  {
   "cell_type": "code",
   "execution_count": 18,
   "metadata": {},
   "outputs": [
    {
     "output_type": "stream",
     "name": "stdout",
     "text": [
      "[1, 2, [3, 4], [5, [100, 200, ['hello']], 25, 11], 1, 7]\n"
     ]
    }
   ],
   "source": [
    "lst[3][2] = 25\n",
    "print(lst)"
   ]
  },
  {
   "cell_type": "markdown",
   "metadata": {},
   "source": [
    "**Given the following list, obtain the word \"hello\" y change *lie* **for** *truth***"
   ]
  },
  {
   "cell_type": "code",
   "execution_count": 21,
   "metadata": {},
   "outputs": [],
   "source": [
    "d = {'k1':[1,2,3,{'funny':['oh','no','lie',{'destiny':[1,2,3,'hello']}]}]}"
   ]
  },
  {
   "cell_type": "code",
   "execution_count": 22,
   "metadata": {},
   "outputs": [
    {
     "output_type": "stream",
     "name": "stdout",
     "text": [
      "hello\n"
     ]
    }
   ],
   "source": [
    "print(d['k1'][3]['funny'][3]['destiny'][3])"
   ]
  },
  {
   "cell_type": "code",
   "execution_count": 23,
   "metadata": {},
   "outputs": [
    {
     "output_type": "stream",
     "name": "stdout",
     "text": [
      "{'k1': [1, 2, 3, {'funny': ['oh', 'no', 'truth', {'destiny': [1, 2, 3, 'hello']}]}]}\n"
     ]
    }
   ],
   "source": [
    "d['k1'][3]['funny'][2] = 'truth'\n",
    "print(d)"
   ]
  },
  {
   "cell_type": "markdown",
   "metadata": {},
   "source": [
    "**Which are the main differences between a tuple, a list and a set? Provide an example of each one**"
   ]
  },
  {
   "cell_type": "code",
   "execution_count": 26,
   "metadata": {},
   "outputs": [
    {
     "output_type": "stream",
     "name": "stdout",
     "text": [
      "Tuple: Hello My Name Is Francisco \nList: ['Hello My Name Is Francisco'] \nSet: {'Hello My Name Is Francisco'}\n"
     ]
    }
   ],
   "source": [
    "gamma = (\"hello my name is francisco\".title())\n",
    "theta = [\"hello my name is francisco\".title()]\n",
    "vega = {\"hello my name is francisco\".title()}\n",
    "\n",
    "print(\"Tuple:\",gamma, #The tuple is inmutable, the sets and lists are not\n",
    "      \"\\nList:\",theta, #Lists are mutables \n",
    "       \"\\nSet:\",vega #Sets are mutable data structures, but with inmutable elements\n",
    "      )\n",
    "\n",
    "#You could also say that Tuples use (), Lists use [], and Sets use {}"
   ]
  },
  {
   "cell_type": "markdown",
   "metadata": {},
   "source": [
    "**Create a function that obtains the domain of an e-mail address, for example, passing *user@domain.com* **the function should return** *domain.com* **"
   ]
  },
  {
   "source": [
    "Regular Expression Syntax **(re)**:\n",
    "https://docs.python.org/3/library/re.html"
   ],
   "cell_type": "markdown",
   "metadata": {}
  },
  {
   "cell_type": "code",
   "execution_count": 27,
   "metadata": {},
   "outputs": [
    {
     "output_type": "stream",
     "name": "stdout",
     "text": [
      "hotmail.com\n"
     ]
    }
   ],
   "source": [
    "import re \n",
    "\n",
    "mail = input('Enter your email please: ')\n",
    "x = re.search ('(?<=@)\\S+', mail)\n",
    "print(x.group (0))"
   ]
  },
  {
   "cell_type": "markdown",
   "metadata": {},
   "source": [
    "**Write a function that returns ** *True* **if the word** *dog* **is whithin the given string (beware that the word could be written in all caps or any form)** "
   ]
  },
  {
   "cell_type": "code",
   "execution_count": 28,
   "metadata": {},
   "outputs": [
    {
     "output_type": "stream",
     "name": "stdout",
     "text": [
      "True\n"
     ]
    }
   ],
   "source": [
    "#Option 1\n",
    "x = input (\"Write a sentence:\").lower()\n",
    "if \"dog\" in x:\n",
    "    print(True)\n",
    "else:\n",
    "    print(False)"
   ]
  },
  {
   "cell_type": "code",
   "execution_count": 29,
   "metadata": {},
   "outputs": [
    {
     "output_type": "stream",
     "name": "stdout",
     "text": [
      "The word 'dog' is found within:\ndog\n"
     ]
    }
   ],
   "source": [
    "#Option 2\n",
    "x = input (\"Write a sentence:\").lower()\n",
    "if \"dog\" in x:\n",
    "    print(f\"The word 'dog' is found within:\\n{x}\")\n",
    "else:\n",
    "    print(f\"The word 'dog' is not found within:\\n{x}\")"
   ]
  },
  {
   "cell_type": "code",
   "execution_count": 89,
   "metadata": {},
   "outputs": [
    {
     "output_type": "stream",
     "name": "stdout",
     "text": [
      "True\n"
     ]
    }
   ],
   "source": [
    "#Option 3\n",
    "def string ():\n",
    "    frase = input ('Write a sentence: ').lower()\n",
    "    if 'dog' in frase:\n",
    "        print (True)\n",
    "    else:\n",
    "        print(False)\n",
    "\n",
    "string()"
   ]
  },
  {
   "cell_type": "markdown",
   "metadata": {},
   "source": [
    "**Use lambda expression and the filter() method to filter out the words within a list that start with the letter s**"
   ]
  },
  {
   "cell_type": "code",
   "execution_count": 31,
   "metadata": {},
   "outputs": [
    {
     "output_type": "stream",
     "name": "stdout",
     "text": [
      "['sea', 'song', 'subway']\n"
     ]
    }
   ],
   "source": [
    "x = ['sea', 'song', 'cat', 'cool', 'subway']\n",
    "s = filter (lambda x: x.startswith ('s'), x)\n",
    "print (list(s))"
   ]
  },
  {
   "cell_type": "markdown",
   "metadata": {},
   "source": [
    "**Writing a program that asks the use to introduce a written word, and then generates a dictionary with the quantity of repetitions that each letter has. For example, if the user writes:** *Pamplona* **the program should return: *p': 2, 'a': 2, 'm': 1, 'l': 1, 'o': 1, 'n': 1* **"
   ]
  },
  {
   "cell_type": "code",
   "execution_count": 32,
   "metadata": {},
   "outputs": [
    {
     "output_type": "stream",
     "name": "stdout",
     "text": [
      "{'p': 2, 'a': 2, 'm': 1, 'l': 1, 'o': 1, 'n': 1}\n"
     ]
    }
   ],
   "source": [
    "#Option 1\n",
    "d = {}\n",
    "chain = input(\"Insert any word:\").lower()\n",
    "for c in chain:\n",
    "    if c in d.keys():\n",
    "        d[c] += 1\n",
    "    else:\n",
    "        d[c] = 1\n",
    "\n",
    "for k, v in d.items():   \n",
    "    print(d)\n",
    "    break    "
   ]
  },
  {
   "source": [],
   "cell_type": "markdown",
   "metadata": {}
  },
  {
   "cell_type": "code",
   "execution_count": 142,
   "metadata": {},
   "outputs": [
    {
     "output_type": "stream",
     "name": "stdout",
     "text": [
      "{'j': 1, 'u': 1, 'a': 2, 'n': 2, ' ': 1, 'd': 1, 'r': 1, 'e': 1}\n"
     ]
    }
   ],
   "source": [
    "#Option 2\n",
    "d_1={}\n",
    "chain = input(\"Insert any word:\").lower()\n",
    "\n",
    "for c in chain:\n",
    "    if c not in d_1.keys():\n",
    "        d_1[c]=cadena.count(c)\n",
    "\n",
    "\n",
    "for k, v in d_1.items():\n",
    "    print(d_1)\n",
    "    break"
   ]
  },
  {
   "cell_type": "markdown",
   "metadata": {},
   "source": [
    "**Creating a TXT file, and writing a function that:**\n",
    "\n",
    "- Counts the number of lines in the file\n",
    "- Counts de number of words in the file\n",
    "- Counts the number of letters in the file\n",
    "- Counts de number of times the letter *a* appears\n"
   ]
  },
  {
   "cell_type": "code",
   "execution_count": 35,
   "metadata": {},
   "outputs": [
    {
     "output_type": "stream",
     "name": "stdout",
     "text": [
      "Welcome to Francisco's TXT file, hope you enjoy reading this!!\n    \nI had a blast writing this to be honest, and even though it might seemt kind of odd, words flow to me in the most intriguing way.\n\nHope you have an excellent day!\n\nBest regards,\n\nFrancisco J. Barriga\n"
     ]
    }
   ],
   "source": [
    "with open (file = \"new_file.txt\", mode = \"w\") as ficherox:\n",
    "\n",
    "    ficherox.write(\"\"\"Welcome to Francisco's TXT file, hope you enjoy reading this!!\n",
    "    \n",
    "I had a blast writing this to be honest, and even though it might seemt kind of odd, words flow to me in the most intriguing way.\n",
    "\n",
    "Hope you have an excellent day!\n",
    "\n",
    "Best regards,\n",
    "\n",
    "Francisco J. Barriga\"\"\")\n",
    "\n",
    "with open (file = \"new_file.txt\", mode= \"r\") as ficherox:\n",
    "    print(ficherox.read())"
   ]
  },
  {
   "cell_type": "code",
   "execution_count": 36,
   "metadata": {},
   "outputs": [
    {
     "output_type": "stream",
     "name": "stdout",
     "text": [
      "(14, 48, 9)\n"
     ]
    }
   ],
   "source": [
    "def find_occurrences(file, word, encoding=\"latin-1\", case_sensitive=False):\n",
    "    \n",
    "    n_occur = n_words = n_lines = 0\n",
    "\n",
    "    with open(file=file, mode=\"r\", encoding=encoding) as f:\n",
    "        \n",
    "        for line in f:\n",
    "            n_words += len(line.split())\n",
    "            n_lines +=1\n",
    "            n_occur = n_occur+line.count(word)\n",
    "    \n",
    "    return n_occur, n_words , n_lines\n",
    "\n",
    "\n",
    "file = \"new_file.txt\"\n",
    "word = \"a\"\n",
    "case_sensitive=True\n",
    "\n",
    "print(find_occurrences(file=file, word=word, case_sensitive=case_sensitive))"
   ]
  },
  {
   "cell_type": "markdown",
   "metadata": {},
   "source": [
    "**Creating a program that, from two lists, for example:**\n",
    "\n",
    ">  a = [1, 1, 2, 3, 5, 8, 13, 21, 34, 55, 89]  \n",
    ">  b = [1, 2, 3, 4, 5, 6, 7, 8, 9, 10, 11, 12, 13]\n",
    "  \n",
    "**returns a list that containg only the elements that are common amongst them both (without duplicateS). Make sure that the program works with lists of different lengths**"
   ]
  },
  {
   "cell_type": "code",
   "execution_count": 1,
   "metadata": {},
   "outputs": [
    {
     "output_type": "stream",
     "name": "stdout",
     "text": [
      "[1, 2, 3, 5, 8, 13]\n"
     ]
    }
   ],
   "source": [
    "a = {1, 1, 2, 3, 5, 8, 13, 21, 34, 55, 89}\n",
    "b = {1, 2, 3, 4, 5, 6, 7, 8, 9, 10, 11, 12, 13}\n",
    "\n",
    "print(list(a.intersection(b)))"
   ]
  },
  {
   "cell_type": "markdown",
   "metadata": {},
   "source": [
    "**Cool Scenario :)**\n",
    "\n",
    "**You are driving in the highway, and all of the sudden a police officer stops you because you have managed to go beyond the speed limit. Write a function that returns three possible scenarios:**\n",
    "\n",
    "- Scenario1: if the speed is 60 km/h or less, you shouldn't get a ticket.\n",
    "- Scenario2: if the speed is within 61 and 80 km/h, you will get a small ticket\n",
    "- Scenario3: if the speed is greater than 81km/h, then you will get a big ticket\n",
    "\n",
    "**If it turns out its your birthday, then the police officer will be kind enough to allow you an extra 5km/h (this value must be passed as a boolean through the function)**\n"
   ]
  },
  {
   "cell_type": "code",
   "execution_count": 38,
   "metadata": {},
   "outputs": [
    {
     "output_type": "stream",
     "name": "stdout",
     "text": [
      "--------------------------------------------------\nYou are allowed an extra 5km/h, happy birthday!\n--------------------------------------------------\n--------------------------------------------------\nYou don't get a ticket!\n"
     ]
    }
   ],
   "source": [
    "def ticket():\n",
    "    is_birthday = ''\n",
    "    speed = [int(input('What was your speed? '))]\n",
    "    x = input ('Is it your birthday today? ').lower()\n",
    "    print ('-' * 50)\n",
    "\n",
    "    if x == 'yes':\n",
    "        is_birthday = True\n",
    "        print (\"You are allowed an extra 5km/h, happy birthday!\")\n",
    "    else:\n",
    "        is_birthday = False\n",
    "        print (\"You ain't getting out of this, there is no discount for you!\")\n",
    "    \n",
    "    print ('-' * 50)     \n",
    "\n",
    "    if is_birthday == False:\n",
    "        for a in speed:\n",
    "            if a <= 60:\n",
    "                print (\"You don't get a ticket!\")\n",
    "            elif a <= 80:\n",
    "                print (\"You get a small ticket\")\n",
    "            else:\n",
    "                print(f\"You getn an enormous ticket that leaves you bankrupt, becuase you wer going at {speed} km/h\") \n",
    "    \n",
    "    print ('-' * 50)     \n",
    "       \n",
    "    if is_birthday == True:\n",
    "        for b in speed:\n",
    "            if b <= 65:\n",
    "                print (\"You don't get a ticket!\")\n",
    "            elif b <= 85:\n",
    "                print (\"You get a small ticket\")\n",
    "            else:\n",
    "                print(f\"You get an enormous ticket that leaves you bankrupt, becuase you were going at {speed} km/h\") \n",
    "\n",
    "ticket()\n"
   ]
  },
  {
   "source": [],
   "cell_type": "markdown",
   "metadata": {}
  },
  {
   "cell_type": "markdown",
   "metadata": {},
   "source": [
    "**Writing a program that accepts a phrase as an entry, and calculates the number of letters and digits within the phrase. For simplicity, don't consider white spaces nor special characters**"
   ]
  },
  {
   "cell_type": "code",
   "execution_count": 41,
   "metadata": {},
   "outputs": [
    {
     "output_type": "stream",
     "name": "stdout",
     "text": [
      "Today is December 8th \n\nLetters: 17 \n\nDigits: 1\n"
     ]
    }
   ],
   "source": [
    "s = input (\"Write whatever you want (including numbers): \\n\")\n",
    "d=l=0\n",
    "for c in s:\n",
    "    if c.isdigit():\n",
    "        d=d+1\n",
    "    elif c.isalpha():\n",
    "            l=l+1\n",
    "    else:\n",
    "            pass\n",
    "print(s,\"\\n\")\n",
    "print ('Letters:', l, \"\\n\")\n",
    "print('Digits:', d)"
   ]
  },
  {
   "cell_type": "markdown",
   "metadata": {},
   "source": [
    "**Write a program that finds all the numbers within 2000-3200 that are divisible by 7, but are not multiples of 5**"
   ]
  },
  {
   "cell_type": "code",
   "execution_count": 42,
   "metadata": {},
   "outputs": [
    {
     "output_type": "stream",
     "name": "stdout",
     "text": [
      "2002\n2009\n2016\n2023\n2037\n2044\n2051\n2058\n2072\n2079\n2086\n2093\n2107\n2114\n2121\n2128\n2142\n2149\n2156\n2163\n2177\n2184\n2191\n2198\n2212\n2219\n2226\n2233\n2247\n2254\n2261\n2268\n2282\n2289\n2296\n2303\n2317\n2324\n2331\n2338\n2352\n2359\n2366\n2373\n2387\n2394\n2401\n2408\n2422\n2429\n2436\n2443\n2457\n2464\n2471\n2478\n2492\n2499\n2506\n2513\n2527\n2534\n2541\n2548\n2562\n2569\n2576\n2583\n2597\n2604\n2611\n2618\n2632\n2639\n2646\n2653\n2667\n2674\n2681\n2688\n2702\n2709\n2716\n2723\n2737\n2744\n2751\n2758\n2772\n2779\n2786\n2793\n2807\n2814\n2821\n2828\n2842\n2849\n2856\n2863\n2877\n2884\n2891\n2898\n2912\n2919\n2926\n2933\n2947\n2954\n2961\n2968\n2982\n2989\n2996\n3003\n3017\n3024\n3031\n3038\n3052\n3059\n3066\n3073\n3087\n3094\n3101\n3108\n3122\n3129\n3136\n3143\n3157\n3164\n3171\n3178\n3192\n3199\n"
     ]
    }
   ],
   "source": [
    "#Option 1\n",
    "for i in range(2000,3200):\n",
    "    if i % 7 == 0 and i % 5 != 0:\n",
    "        print(i)"
   ]
  },
  {
   "cell_type": "code",
   "execution_count": 43,
   "metadata": {},
   "outputs": [
    {
     "output_type": "stream",
     "name": "stdout",
     "text": [
      "[2002, 2009, 2016, 2023, 2037, 2044, 2051, 2058, 2072, 2079, 2086, 2093, 2107, 2114, 2121, 2128, 2142, 2149, 2156, 2163, 2177, 2184, 2191, 2198, 2212, 2219, 2226, 2233, 2247, 2254, 2261, 2268, 2282, 2289, 2296, 2303, 2317, 2324, 2331, 2338, 2352, 2359, 2366, 2373, 2387, 2394, 2401, 2408, 2422, 2429, 2436, 2443, 2457, 2464, 2471, 2478, 2492, 2499, 2506, 2513, 2527, 2534, 2541, 2548, 2562, 2569, 2576, 2583, 2597, 2604, 2611, 2618, 2632, 2639, 2646, 2653, 2667, 2674, 2681, 2688, 2702, 2709, 2716, 2723, 2737, 2744, 2751, 2758, 2772, 2779, 2786, 2793, 2807, 2814, 2821, 2828, 2842, 2849, 2856, 2863, 2877, 2884, 2891, 2898, 2912, 2919, 2926, 2933, 2947, 2954, 2961, 2968, 2982, 2989, 2996, 3003, 3017, 3024, 3031, 3038, 3052, 3059, 3066, 3073, 3087, 3094, 3101, 3108, 3122, 3129, 3136, 3143, 3157, 3164, 3171, 3178, 3192, 3199]\n"
     ]
    }
   ],
   "source": [
    "#Option 2\n",
    "print([i for i in range(2000,3200) if i % 7 == 0 and i % 5 !=0])"
   ]
  },
  {
   "cell_type": "code",
   "execution_count": null,
   "metadata": {},
   "outputs": [],
   "source": []
  }
 ],
 "metadata": {
  "celltoolbar": "Hide code",
  "kernelspec": {
   "display_name": "Python 3",
   "language": "python",
   "name": "python3"
  },
  "language_info": {
   "codemirror_mode": {
    "name": "ipython",
    "version": 3
   },
   "file_extension": ".py",
   "mimetype": "text/x-python",
   "name": "python",
   "nbconvert_exporter": "python",
   "pygments_lexer": "ipython3",
   "version": "3.8.3-final"
  }
 },
 "nbformat": 4,
 "nbformat_minor": 1
}